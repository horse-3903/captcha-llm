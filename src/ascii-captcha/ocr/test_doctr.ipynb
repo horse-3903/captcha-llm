{
 "cells": [
  {
   "cell_type": "code",
   "execution_count": 1,
   "metadata": {},
   "outputs": [],
   "source": [
    "import os\n",
    "import glob"
   ]
  },
  {
   "cell_type": "code",
   "execution_count": 2,
   "metadata": {},
   "outputs": [],
   "source": [
    "import io\n",
    "import torch\n",
    "import numpy as np\n",
    "from PIL import Image"
   ]
  },
  {
   "cell_type": "code",
   "execution_count": 3,
   "metadata": {},
   "outputs": [
    {
     "name": "stderr",
     "output_type": "stream",
     "text": [
      "c:\\Users\\chong\\Desktop\\Coding\\Github\\captcha-llm\\venv\\lib\\site-packages\\tqdm\\auto.py:21: TqdmWarning: IProgress not found. Please update jupyter and ipywidgets. See https://ipywidgets.readthedocs.io/en/stable/user_install.html\n",
      "  from .autonotebook import tqdm as notebook_tqdm\n"
     ]
    }
   ],
   "source": [
    "from doctr.models import ocr_predictor, db_resnet50, vitstr_small\n",
    "from doctr.models.predictor import OCRPredictor\n",
    "from doctr.models.detection.predictor import DetectionPredictor\n",
    "from doctr.models.recognition.predictor import RecognitionPredictor\n",
    "from doctr.models.preprocessor import PreProcessor"
   ]
  },
  {
   "cell_type": "code",
   "execution_count": 4,
   "metadata": {},
   "outputs": [],
   "source": [
    "parent_dir = \"C:/Users/chong/Desktop/Coding/Github/captcha-llm\""
   ]
  },
  {
   "cell_type": "code",
   "execution_count": 5,
   "metadata": {},
   "outputs": [],
   "source": [
    "device = 'cuda' if torch.cuda.is_available() else 'cpu'"
   ]
  },
  {
   "cell_type": "code",
   "execution_count": 6,
   "metadata": {},
   "outputs": [],
   "source": [
    "det_model = db_resnet50(pretrained=False, pretrained_backbone=False)\n",
    "det_params = torch.load(os.path.join(parent_dir, 'models/ascii-captcha/db_resnet50_20250616-122929.pt'), map_location=device)\n",
    "det_model.load_state_dict(det_params)\n",
    "det_model.to(device)\n",
    "#det_model.eval()\n",
    "\n",
    "reco_model = vitstr_small(pretrained=False, pretrained_backbone=False, vocab=\"0123456789ABCDEFGHIJKLMNOPQRSTUVWXYZ\")\n",
    "reco_params = torch.load(os.path.join(parent_dir, 'models/ascii-captcha/vitstr_small_20250617-120705.pt'), map_location=device)\n",
    "reco_model.load_state_dict(reco_params)\n",
    "reco_model.to(device)\n",
    "#reco_model.eval()\n",
    "\n",
    "det_predictor = DetectionPredictor(\n",
    "    PreProcessor(\n",
    "        (2048, 2048),\n",
    "        batch_size=1,\n",
    "        mean=(0.798, 0.785, 0.772),\n",
    "        std=(0.264, 0.2749, 0.287),\n",
    "        preserve_aspect_ratio=True\n",
    "    ),\n",
    "    det_model\n",
    ")\n",
    "\n",
    "\n",
    "reco_predictor = RecognitionPredictor(\n",
    "    PreProcessor(\n",
    "        (32, 128),\n",
    "        preserve_aspect_ratio=True,\n",
    "        batch_size=1024,\n",
    "        mean=(0.694, 0.695, 0.693),\n",
    "        std=(0.299, 0.296, 0.301)\n",
    "    ),\n",
    "    reco_model\n",
    ")\n",
    "\n",
    "predictor = OCRPredictor(det_predictor, reco_predictor)"
   ]
  },
  {
   "cell_type": "code",
   "execution_count": 7,
   "metadata": {},
   "outputs": [],
   "source": [
    "predictor = ocr_predictor(pretrained=True)"
   ]
  },
  {
   "cell_type": "code",
   "execution_count": 8,
   "metadata": {},
   "outputs": [],
   "source": [
    "image_dir = \"data/ascii-captcha-image-doctr\"\n",
    "png_files = glob.glob(os.path.join(parent_dir, image_dir, \"**\", \"*.png\"), recursive=True)\n",
    "\n",
    "if not png_files:\n",
    "    raise FileNotFoundError(\"No PNG files found in the specified directory.\")"
   ]
  },
  {
   "cell_type": "code",
   "execution_count": 15,
   "metadata": {},
   "outputs": [],
   "source": [
    "import random\n",
    "image_path = random.choice(png_files)\n",
    "image_path = \"captcha.png\""
   ]
  },
  {
   "cell_type": "code",
   "execution_count": 16,
   "metadata": {},
   "outputs": [
    {
     "name": "stdout",
     "output_type": "stream",
     "text": [
      "Document(\n",
      "  (pages): [Page(\n",
      "    dimensions=(168, 300)\n",
      "    (blocks): [Block(\n",
      "      (lines): [\n",
      "        Line(\n",
      "          (words): [Word(value='CAPTCHA', confidence=1.0)]\n",
      "        ),\n",
      "        Line(\n",
      "          (words): [Word(value='-', confidence=0.94)]\n",
      "        ),\n",
      "      ]\n",
      "      (artefacts): []\n",
      "    )]\n",
      "  )]\n",
      ")\n"
     ]
    }
   ],
   "source": [
    "image = Image.open(image_path)\n",
    "image = image.convert(\"RGB\")\n",
    "image = np.array(image)\n",
    "\n",
    "results = predictor([image])\n",
    "print(results)"
   ]
  },
  {
   "cell_type": "code",
   "execution_count": 17,
   "metadata": {},
   "outputs": [
    {
     "data": {
      "image/png": "[encoded data removed]",
      "text/plain": [
       "<Figure size 1000x560 with 1 Axes>"
      ]
     },
     "metadata": {},
     "output_type": "display_data"
    }
   ],
   "source": [
    "results.show()"
   ]
  }
 ],
 "metadata": {
  "kernelspec": {
   "display_name": "venv",
   "language": "python",
   "name": "python3"
  },
  "language_info": {
   "codemirror_mode": {
    "name": "ipython",
    "version": 3
   },
   "file_extension": ".py",
   "mimetype": "text/x-python",
   "name": "python",
   "nbconvert_exporter": "python",
   "pygments_lexer": "ipython3",
   "version": "3.10.11"
  }
 },
 "nbformat": 4,
 "nbformat_minor": 2
}
